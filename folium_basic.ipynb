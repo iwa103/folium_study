{
  "nbformat": 4,
  "nbformat_minor": 0,
  "metadata": {
    "colab": {
      "provenance": [],
      "authorship_tag": "ABX9TyOPhxg7lDbFt/HAnliaEmms",
      "include_colab_link": true
    },
    "kernelspec": {
      "name": "python3",
      "display_name": "Python 3"
    },
    "language_info": {
      "name": "python"
    }
  },
  "cells": [
    {
      "cell_type": "markdown",
      "metadata": {
        "id": "view-in-github",
        "colab_type": "text"
      },
      "source": [
        "<a href=\"https://colab.research.google.com/github/iwa103/folium_study/blob/main/folium_basic.ipynb\" target=\"_parent\"><img src=\"https://colab.research.google.com/assets/colab-badge.svg\" alt=\"Open In Colab\"/></a>"
      ]
    },
    {
      "cell_type": "markdown",
      "source": [
        "## ①地図表示ー１（地図を表示：センターは米ポートランド）"
      ],
      "metadata": {
        "id": "Vhl9kW1ljYPg"
      }
    },
    {
      "cell_type": "code",
      "execution_count": null,
      "metadata": {
        "id": "7IsZlz9pAzfd"
      },
      "outputs": [],
      "source": [
        "import folium\n",
        "\n",
        "m = folium.Map(location=(45.5236, -122.6750))\n",
        "\n",
        "m"
      ]
    },
    {
      "cell_type": "markdown",
      "source": [
        "## ①地図表示ー２（地図表示の中心変更：センターを愛媛県松山市に変更）"
      ],
      "metadata": {
        "id": "O1q7U9EcU_2o"
      }
    },
    {
      "cell_type": "code",
      "execution_count": null,
      "metadata": {
        "id": "c0e6N1ZLVJpK"
      },
      "outputs": [],
      "source": [
        "import folium\n",
        "\n",
        "lat = 33.8392\n",
        "long = 132.7656\n",
        "\n",
        "m = folium.Map(location=(lat,long))\n",
        "\n",
        "m"
      ]
    },
    {
      "cell_type": "markdown",
      "source": [
        "## ①地図表示ー３（地図のズームレベル変更）"
      ],
      "metadata": {
        "id": "3jr1aLGoVhgv"
      }
    },
    {
      "cell_type": "code",
      "execution_count": null,
      "metadata": {
        "id": "2A73PjetVryg"
      },
      "outputs": [],
      "source": [
        "import folium\n",
        "\n",
        "lat = 33.8392\n",
        "long = 132.7656\n",
        "\n",
        "m = folium.Map(location=[lat,long],zoom_start=17)\n",
        "# m = folium.Map(location=[lat,long],zoom_start=13)\n",
        "\n",
        "m"
      ]
    },
    {
      "cell_type": "markdown",
      "source": [
        "## ②他の地図表示（XYZタイル：ERIS衛星画像）"
      ],
      "metadata": {
        "id": "_7uAMkcckgQu"
      }
    },
    {
      "cell_type": "code",
      "source": [
        "import folium\n",
        "\n",
        "# 愛媛県松山市の緯度経度\n",
        "latitude = 33.8392\n",
        "longitude = 132.7656\n",
        "\n",
        "# Esriの衛星タイルセット\n",
        "tileset = r'https://server.arcgisonline.com/ArcGIS/rest/services/World_Imagery/MapServer/tile/{z}/{y}/{x}'\n",
        "\n",
        "# 松山市の地図を生成（Esriの衛星画像を使用）、attrは出典先の記載（標準地図でなく別のものを表示する時に必要）\n",
        "map_matsuyama = folium.Map(location=[latitude, longitude], zoom_start=14, tiles=tileset, attr='ERIS')\n",
        "\n",
        "\n",
        "# 衛星写真のビューの表示\n",
        "map_matsuyama\n"
      ],
      "metadata": {
        "id": "0w8PM_N4EDql"
      },
      "execution_count": null,
      "outputs": []
    },
    {
      "cell_type": "markdown",
      "source": [
        "## ③複数の地図表示（レイヤ　OSM／衛星）"
      ],
      "metadata": {
        "id": "P9T4Jy_OotLr"
      }
    },
    {
      "cell_type": "code",
      "source": [
        "import folium\n",
        "\n",
        "# 松山市の緯度と経度\n",
        "latitude = 33.8392\n",
        "longitude = 132.7656\n",
        "\n",
        "# 松山市を中心に地図を作成\n",
        "m = folium.Map(location=[latitude, longitude], zoom_start=16)\n",
        "\n",
        "# EsriのWorld Imageryタイルレイヤーを追加\n",
        "esri_imagery = folium.TileLayer(\n",
        "    tiles='https://server.arcgisonline.com/ArcGIS/rest/services/World_Imagery/MapServer/tile/{z}/{y}/{x}',\n",
        "    attr='ERIS',\n",
        "    name='Esri satelite'\n",
        ").add_to(m)\n",
        "\n",
        "# レイヤーの切り替えコントロールを追加\n",
        "folium.LayerControl().add_to(m)\n",
        "\n",
        "m"
      ],
      "metadata": {
        "id": "cYreeJ8no7Zz"
      },
      "execution_count": null,
      "outputs": []
    },
    {
      "cell_type": "markdown",
      "source": [
        "## ④HTMLファイルで保存（他のPCで閲覧可能）"
      ],
      "metadata": {
        "id": "R2rilxORkJVV"
      }
    },
    {
      "cell_type": "code",
      "source": [
        "import folium\n",
        "\n",
        "# 松山市の緯度と経度\n",
        "latitude = 33.8392\n",
        "longitude = 132.7656\n",
        "\n",
        "# 松山市を中心に地図を作成\n",
        "m = folium.Map(location=[latitude, longitude], zoom_start=13)\n",
        "\n",
        "# EsriのWorld Imageryタイルレイヤーを追加\n",
        "esri_imagery = folium.TileLayer(\n",
        "    tiles='https://server.arcgisonline.com/ArcGIS/rest/services/World_Imagery/MapServer/tile/{z}/{y}/{x}',\n",
        "    attr='ERIS',\n",
        "    name='Esri satelite'\n",
        ").add_to(m)\n",
        "\n",
        "# レイヤーの切り替えコントロールを追加\n",
        "folium.LayerControl().add_to(m)\n",
        "\n",
        "# 地図をHTMLファイルとして保存\n",
        "m.save('map.html')"
      ],
      "metadata": {
        "id": "Dcp5TScfDY8A"
      },
      "execution_count": 14,
      "outputs": []
    }
  ]
}