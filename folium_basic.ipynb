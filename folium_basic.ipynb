{
  "nbformat": 4,
  "nbformat_minor": 0,
  "metadata": {
    "colab": {
      "provenance": [],
      "authorship_tag": "ABX9TyOyqhJPViobXTwXiwDyKk1P",
      "include_colab_link": true
    },
    "kernelspec": {
      "name": "python3",
      "display_name": "Python 3"
    },
    "language_info": {
      "name": "python"
    }
  },
  "cells": [
    {
      "cell_type": "markdown",
      "metadata": {
        "id": "view-in-github",
        "colab_type": "text"
      },
      "source": [
        "<a href=\"https://colab.research.google.com/github/iwa103/folium_study/blob/main/folium_basic.ipynb\" target=\"_parent\"><img src=\"https://colab.research.google.com/assets/colab-badge.svg\" alt=\"Open In Colab\"/></a>"
      ]
    },
    {
      "cell_type": "markdown",
      "source": [
        "## １：地図表示ー１（地図を表示）"
      ],
      "metadata": {
        "id": "Vhl9kW1ljYPg"
      }
    },
    {
      "cell_type": "code",
      "execution_count": null,
      "metadata": {
        "id": "7IsZlz9pAzfd"
      },
      "outputs": [],
      "source": [
        "import folium\n",
        "\n",
        "m = folium.Map(location=(45.5236, -122.6750))\n",
        "\n",
        "m"
      ]
    },
    {
      "cell_type": "markdown",
      "source": [
        "## ２：地図表示ー２（地図の変更（名称のみで変更可能なもの　例：cartodb positron）"
      ],
      "metadata": {
        "id": "IQz9epjVjugD"
      }
    },
    {
      "cell_type": "code",
      "source": [
        "import folium\n",
        "folium.Map((45.5236, -122.6750), tiles=\"cartodb positron\")"
      ],
      "metadata": {
        "id": "fTS0NL5cBAVy"
      },
      "execution_count": null,
      "outputs": []
    },
    {
      "cell_type": "markdown",
      "source": [
        "## ３：地図表示ー３ー１（地図の変更　XYZタイル：ERIS衛星画像）"
      ],
      "metadata": {
        "id": "_7uAMkcckgQu"
      }
    },
    {
      "cell_type": "code",
      "source": [
        "import folium\n",
        "\n",
        "# 愛媛県松山市の緯度経度\n",
        "latitude = 33.8392\n",
        "longitude = 132.7656\n",
        "\n",
        "# Esriの衛星タイルセット\n",
        "tileset = r'https://server.arcgisonline.com/ArcGIS/rest/services/World_Imagery/MapServer/tile/{z}/{y}/{x}'\n",
        "#USGSI image\n",
        "# tileset = r'https://basemap.nationalmap.gov/arcgis/rest/services/USGSImageryTopo/MapServer/tile/{z}/{y}/{x}'\n",
        "\n",
        "# 松山市の地図を生成（Esriの衛星画像を使用）、attrは出典先の記載（標準地図でなく別のものを表示する時に必要）\n",
        "map_matsuyama = folium.Map(location=[latitude, longitude], zoom_start=8, tiles=tileset, attr='ERIS')\n",
        "\n",
        "\n",
        "# 衛星写真のビューの表示\n",
        "map_matsuyama\n"
      ],
      "metadata": {
        "id": "0w8PM_N4EDql"
      },
      "execution_count": null,
      "outputs": []
    },
    {
      "cell_type": "markdown",
      "source": [
        "## ３：地図表示ー３ー２（地図変更　USGSI衛星画像　XYZタイル　表示可能なズームは少ない）"
      ],
      "metadata": {
        "id": "ta94_R6MldBk"
      }
    },
    {
      "cell_type": "code",
      "source": [
        "import folium\n",
        "\n",
        "# 愛媛県松山市の緯度経度\n",
        "latitude = 33.8392\n",
        "longitude = 132.7656\n",
        "\n",
        "# Esriの衛星タイルセット\n",
        "# tileset = r'https://server.arcgisonline.com/ArcGIS/rest/services/World_Imagery/MapServer/tile/{z}/{y}/{x}'\n",
        "#USGSI image\n",
        "tileset = r'https://basemap.nationalmap.gov/arcgis/rest/services/USGSImageryTopo/MapServer/tile/{z}/{y}/{x}'\n",
        "\n",
        "# 松山市の地図を生成（Esriの衛星画像を使用）、attrは出典先の記載（標準地図でなく別のものを表示する時に必要）\n",
        "map_matsuyama = folium.Map(location=[latitude, longitude], zoom_start=8, tiles=tileset, attr='USGSI')\n",
        "\n",
        "\n",
        "# 衛星写真のビューの表示\n",
        "map_matsuyama\n"
      ],
      "metadata": {
        "id": "kbNdGh7GlTRh"
      },
      "execution_count": null,
      "outputs": []
    },
    {
      "cell_type": "markdown",
      "source": [
        "## ４：複数の地図画面表示（切換え　OSMと衛星）"
      ],
      "metadata": {
        "id": "P9T4Jy_OotLr"
      }
    },
    {
      "cell_type": "code",
      "source": [
        "import folium\n",
        "\n",
        "# 松山市の緯度と経度\n",
        "latitude = 33.8392\n",
        "longitude = 132.7656\n",
        "\n",
        "# 松山市を中心に地図を作成\n",
        "m = folium.Map(location=[latitude, longitude], zoom_start=13)\n",
        "\n",
        "# EsriのWorld Imageryタイルレイヤーを追加\n",
        "esri_imagery = folium.TileLayer(\n",
        "    tiles='https://server.arcgisonline.com/ArcGIS/rest/services/World_Imagery/MapServer/tile/{z}/{y}/{x}',\n",
        "    attr='ERIS',\n",
        "    name='Esri satelite'\n",
        ").add_to(m)\n",
        "\n",
        "# レイヤーの切り替えコントロールを追加\n",
        "folium.LayerControl().add_to(m)\n",
        "\n",
        "m"
      ],
      "metadata": {
        "id": "cYreeJ8no7Zz"
      },
      "execution_count": null,
      "outputs": []
    },
    {
      "cell_type": "markdown",
      "source": [
        "## ５：地図表示　HTMLファイルで保存（他のPCで閲覧可能）"
      ],
      "metadata": {
        "id": "R2rilxORkJVV"
      }
    },
    {
      "cell_type": "code",
      "source": [
        "import folium\n",
        "\n",
        "# 松山市の緯度と経度\n",
        "latitude = 33.8392\n",
        "longitude = 132.7656\n",
        "\n",
        "# 松山市を中心に地図を作成\n",
        "m = folium.Map(location=[latitude, longitude], zoom_start=13)\n",
        "\n",
        "# EsriのWorld Imageryタイルレイヤーを追加\n",
        "esri_imagery = folium.TileLayer(\n",
        "    tiles='https://server.arcgisonline.com/ArcGIS/rest/services/World_Imagery/MapServer/tile/{z}/{y}/{x}',\n",
        "    attr='ERIS',\n",
        "    name='Esri satelite'\n",
        ").add_to(m)\n",
        "\n",
        "# レイヤーの切り替えコントロールを追加\n",
        "folium.LayerControl().add_to(m)\n",
        "\n",
        "# 地図をHTMLファイルとして保存\n",
        "m.save('map.html')"
      ],
      "metadata": {
        "id": "Dcp5TScfDY8A"
      },
      "execution_count": null,
      "outputs": []
    },
    {
      "cell_type": "markdown",
      "source": [
        "## ５：アイコン表示確認用"
      ],
      "metadata": {
        "id": "nDh5s_B-l-jr"
      }
    },
    {
      "cell_type": "code",
      "source": [
        "import folium\n",
        "\n",
        "lat = 33.8392\n",
        "long = 132.7656\n",
        "\n",
        "\n",
        "# 地図の作成\n",
        "m = folium.Map(location=[lat, long], zoom_start=13)\n",
        "\n",
        "# cloudアイコンを使用\n",
        "# 使えたアイコン名：cloud home book check camera gift file print tag music inbox plane bookmark heart music plus minus wrench flag\n",
        "folium.Marker(\n",
        "    location=[lat, long],\n",
        "    icon=folium.Icon(icon='flag')\n",
        ").add_to(m)\n",
        "\n",
        "# 地図を表示\n",
        "m\n",
        "\n",
        "# 地図をHTMLファイルとして保存\n",
        "# m.save('map.html')\n",
        "\n"
      ],
      "metadata": {
        "id": "rtUilCGCK012"
      },
      "execution_count": null,
      "outputs": []
    }
  ]
}